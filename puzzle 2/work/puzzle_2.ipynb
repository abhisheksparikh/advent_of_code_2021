{
 "cells": [
  {
   "cell_type": "markdown",
   "id": "3a13898d-6569-447f-a1c4-cb9960c0c315",
   "metadata": {},
   "source": [
    "# Advent of code 2021"
   ]
  },
  {
   "cell_type": "markdown",
   "id": "1c44b6ce-af2d-4bd3-acb2-4ce288306c6b",
   "metadata": {},
   "source": [
    "Puzzle 2"
   ]
  },
  {
   "cell_type": "code",
   "execution_count": 1,
   "id": "040c71f7-988c-4d64-bd4e-48786266dffe",
   "metadata": {},
   "outputs": [],
   "source": [
    "import pathlib\n",
    "import os\n",
    "import pandas as pd\n",
    "import numpy as np"
   ]
  },
  {
   "cell_type": "code",
   "execution_count": 2,
   "id": "31ede08c-e7ad-471a-bd5b-0eefdac2ad8b",
   "metadata": {},
   "outputs": [],
   "source": [
    "parent_dir = pathlib.Path(os.getcwd()).parent"
   ]
  },
  {
   "cell_type": "code",
   "execution_count": 7,
   "id": "e3f9770d-b086-4566-ba2d-6d6eac711936",
   "metadata": {},
   "outputs": [],
   "source": [
    "input_file = parent_dir / 'input' / 'puzzle_1_input.txt'"
   ]
  },
  {
   "cell_type": "code",
   "execution_count": 8,
   "id": "34677d1a-89c1-4fad-b409-bb7ccf423f52",
   "metadata": {},
   "outputs": [],
   "source": [
    "# reading the data from the input file\n",
    "with open(input_file) as f:\n",
    "    lines = f.readlines()"
   ]
  },
  {
   "cell_type": "code",
   "execution_count": 9,
   "id": "ecacaed6-cca9-4d1b-bdb6-f64f3e3cd0e6",
   "metadata": {},
   "outputs": [],
   "source": [
    "# Stripping the line break from the strings and converting the each string element to float\n",
    "measurements = []\n",
    "for i in range(len(lines)):\n",
    "    measurements.append(float(lines[i].strip('\\n')))"
   ]
  },
  {
   "cell_type": "code",
   "execution_count": 11,
   "id": "e4c52ff9-9448-4548-8e26-8a4ff97f48a0",
   "metadata": {},
   "outputs": [],
   "source": [
    "# Creating a numpy array of measurements\n",
    "measurements = pd.Series(measurements)"
   ]
  },
  {
   "cell_type": "code",
   "execution_count": 20,
   "id": "46f5a5bf-937d-443c-b731-e5d2dea1d86b",
   "metadata": {},
   "outputs": [
    {
     "data": {
      "text/plain": [
       "0         414.0\n",
       "1         423.0\n",
       "2         426.0\n",
       "3         426.0\n",
       "4         428.0\n",
       "         ...   \n",
       "1993    32236.0\n",
       "1994    32248.0\n",
       "1995    32256.0\n",
       "1996    32262.0\n",
       "1997    32264.0\n",
       "Length: 1998, dtype: float64"
      ]
     },
     "execution_count": 20,
     "metadata": {},
     "output_type": "execute_result"
    }
   ],
   "source": [
    "measurements.rolling(window=3).sum().iloc[2:].reset_index(drop=True)"
   ]
  },
  {
   "cell_type": "code",
   "execution_count": 28,
   "id": "981e4fec-e25e-4451-a82b-4843ef7824ba",
   "metadata": {},
   "outputs": [],
   "source": [
    "diff = (measurements.rolling(window=3).sum().iloc[3:].reset_index(drop=True)  \n",
    "        - measurements.rolling(window=3).sum().iloc[2:].reset_index(drop=True))"
   ]
  },
  {
   "cell_type": "code",
   "execution_count": 30,
   "id": "bd041132-804b-4f06-a60f-ea81d25a591f",
   "metadata": {},
   "outputs": [
    {
     "data": {
      "text/plain": [
       "1797"
      ]
     },
     "execution_count": 30,
     "metadata": {},
     "output_type": "execute_result"
    }
   ],
   "source": [
    "(diff>0).sum()"
   ]
  }
 ],
 "metadata": {
  "kernelspec": {
   "display_name": "Python 3 (ipykernel)",
   "language": "python",
   "name": "python3"
  },
  "language_info": {
   "codemirror_mode": {
    "name": "ipython",
    "version": 3
   },
   "file_extension": ".py",
   "mimetype": "text/x-python",
   "name": "python",
   "nbconvert_exporter": "python",
   "pygments_lexer": "ipython3",
   "version": "3.8.11"
  }
 },
 "nbformat": 4,
 "nbformat_minor": 5
}
