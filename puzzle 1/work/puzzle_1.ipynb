{
 "cells": [
  {
   "cell_type": "markdown",
   "id": "3a13898d-6569-447f-a1c4-cb9960c0c315",
   "metadata": {},
   "source": [
    "# Advent of code 2021"
   ]
  },
  {
   "cell_type": "markdown",
   "id": "1c44b6ce-af2d-4bd3-acb2-4ce288306c6b",
   "metadata": {},
   "source": [
    "Puzzle 1"
   ]
  },
  {
   "cell_type": "code",
   "execution_count": 1,
   "id": "040c71f7-988c-4d64-bd4e-48786266dffe",
   "metadata": {},
   "outputs": [],
   "source": [
    "import pathlib\n",
    "import os\n",
    "import pandas as pd\n",
    "import numpy as np"
   ]
  },
  {
   "cell_type": "code",
   "execution_count": 2,
   "id": "31ede08c-e7ad-471a-bd5b-0eefdac2ad8b",
   "metadata": {},
   "outputs": [],
   "source": [
    "parent_dir = pathlib.Path(os.getcwd()).parent"
   ]
  },
  {
   "cell_type": "code",
   "execution_count": 3,
   "id": "e3f9770d-b086-4566-ba2d-6d6eac711936",
   "metadata": {},
   "outputs": [],
   "source": [
    "input_file = parent_dir / 'input' / 'puzzle_1_input.txt'"
   ]
  },
  {
   "cell_type": "code",
   "execution_count": 4,
   "id": "34677d1a-89c1-4fad-b409-bb7ccf423f52",
   "metadata": {},
   "outputs": [],
   "source": [
    "# reading the data from the input file\n",
    "with open(input_file) as f:\n",
    "    lines = f.readlines()"
   ]
  },
  {
   "cell_type": "code",
   "execution_count": 5,
   "id": "ecacaed6-cca9-4d1b-bdb6-f64f3e3cd0e6",
   "metadata": {},
   "outputs": [],
   "source": [
    "# Stripping the line break from the strings and converting the each string element to float\n",
    "measurements = []\n",
    "for i in range(len(lines)):\n",
    "    measurements.append(float(lines[i].strip('\\n')))"
   ]
  },
  {
   "cell_type": "code",
   "execution_count": 6,
   "id": "e4c52ff9-9448-4548-8e26-8a4ff97f48a0",
   "metadata": {},
   "outputs": [],
   "source": [
    "# Creating a numpy array of measurements\n",
    "measurements = np.array(measurements)"
   ]
  },
  {
   "cell_type": "code",
   "execution_count": 7,
   "id": "ab655145-7535-4599-a1bb-e8c2be34cf77",
   "metadata": {},
   "outputs": [],
   "source": [
    "# Taking a difference of two consecutive elements (To make the same length of arrays, I am deleting the last element of the subtracting array\n",
    "a = (np.delete(measurements,0) - np.delete(measurements,len(measurements)-1))"
   ]
  },
  {
   "cell_type": "code",
   "execution_count": 8,
   "id": "8ffdf0a5-5090-4693-a9b8-b5093a6974f5",
   "metadata": {},
   "outputs": [
    {
     "data": {
      "text/plain": [
       "1766"
      ]
     },
     "execution_count": 8,
     "metadata": {},
     "output_type": "execute_result"
    }
   ],
   "source": [
    "# The number of increasing measurements is simply the number of differences which are +ve\n",
    "(a>0).sum()"
   ]
  }
 ],
 "metadata": {
  "kernelspec": {
   "display_name": "Python 3 (ipykernel)",
   "language": "python",
   "name": "python3"
  },
  "language_info": {
   "codemirror_mode": {
    "name": "ipython",
    "version": 3
   },
   "file_extension": ".py",
   "mimetype": "text/x-python",
   "name": "python",
   "nbconvert_exporter": "python",
   "pygments_lexer": "ipython3",
   "version": "3.8.11"
  }
 },
 "nbformat": 4,
 "nbformat_minor": 5
}
