{
 "cells": [
  {
   "cell_type": "markdown",
   "id": "3a13898d-6569-447f-a1c4-cb9960c0c315",
   "metadata": {},
   "source": [
    "# Advent of code 2021"
   ]
  },
  {
   "cell_type": "markdown",
   "id": "1c44b6ce-af2d-4bd3-acb2-4ce288306c6b",
   "metadata": {},
   "source": [
    "Puzzle 3"
   ]
  },
  {
   "cell_type": "code",
   "execution_count": 1,
   "id": "040c71f7-988c-4d64-bd4e-48786266dffe",
   "metadata": {},
   "outputs": [],
   "source": [
    "import pathlib\n",
    "import os\n",
    "import pandas as pd\n",
    "import numpy as np"
   ]
  },
  {
   "cell_type": "code",
   "execution_count": 2,
   "id": "31ede08c-e7ad-471a-bd5b-0eefdac2ad8b",
   "metadata": {},
   "outputs": [],
   "source": [
    "parent_dir = pathlib.Path(os.getcwd()).parent"
   ]
  },
  {
   "cell_type": "code",
   "execution_count": 3,
   "id": "e3f9770d-b086-4566-ba2d-6d6eac711936",
   "metadata": {},
   "outputs": [],
   "source": [
    "input_file = parent_dir / 'input' / 'puzzle_3_input.txt'"
   ]
  },
  {
   "cell_type": "code",
   "execution_count": 4,
   "id": "34677d1a-89c1-4fad-b409-bb7ccf423f52",
   "metadata": {},
   "outputs": [],
   "source": [
    "# reading the data from the input file\n",
    "with open(input_file) as f:\n",
    "    lines = f.readlines()"
   ]
  },
  {
   "cell_type": "code",
   "execution_count": 5,
   "id": "ecacaed6-cca9-4d1b-bdb6-f64f3e3cd0e6",
   "metadata": {},
   "outputs": [],
   "source": [
    "# Stripping the line break from the strings and converting the each string element to float\n",
    "measurements = []\n",
    "for i in range(len(lines)):\n",
    "    measurements.append(lines[i].strip('\\n'))"
   ]
  },
  {
   "cell_type": "code",
   "execution_count": 6,
   "id": "5de6b6fd-5972-406d-a3e9-14ca4642055c",
   "metadata": {},
   "outputs": [],
   "source": [
    "# Converting the movement and the respective direction into a dataframe\n",
    "sub_movement = pd.Series(measurements).str.split(expand=True).rename(columns={0:'direction',1:'movement'})"
   ]
  },
  {
   "cell_type": "code",
   "execution_count": 7,
   "id": "5b29f1d1-135f-45ac-b8fc-8e2c2bc954d4",
   "metadata": {},
   "outputs": [],
   "source": [
    "# Converting the movement values into float\n",
    "sub_movement['movement'] = pd.to_numeric(sub_movement['movement'],errors='coerce')"
   ]
  },
  {
   "cell_type": "code",
   "execution_count": 8,
   "id": "c9308d36-f9d3-4c13-afee-039714e6adf0",
   "metadata": {},
   "outputs": [
    {
     "data": {
      "text/plain": [
       "1950"
      ]
     },
     "execution_count": 8,
     "metadata": {},
     "output_type": "execute_result"
    }
   ],
   "source": [
    "# Forward movement of submarine\n",
    "sub_movement.loc[sub_movement['direction']=='forward'].sum()['movement']"
   ]
  },
  {
   "cell_type": "code",
   "execution_count": 9,
   "id": "5910b397-5519-4f07-9afd-4f505678a8b1",
   "metadata": {},
   "outputs": [
    {
     "data": {
      "text/plain": [
       "823"
      ]
     },
     "execution_count": 9,
     "metadata": {},
     "output_type": "execute_result"
    }
   ],
   "source": [
    "# Up/Down movement of submarine\n",
    "sub_movement.loc[sub_movement['direction']=='down'].sum()['movement'] - sub_movement.loc[sub_movement['direction']=='up'].sum()['movement']"
   ]
  },
  {
   "cell_type": "code",
   "execution_count": 10,
   "id": "64591a6e-5550-4322-9140-e461c6b89229",
   "metadata": {},
   "outputs": [
    {
     "data": {
      "text/plain": [
       "1604850"
      ]
     },
     "execution_count": 10,
     "metadata": {},
     "output_type": "execute_result"
    }
   ],
   "source": [
    "1950*823"
   ]
  }
 ],
 "metadata": {
  "kernelspec": {
   "display_name": "Python 3 (ipykernel)",
   "language": "python",
   "name": "python3"
  },
  "language_info": {
   "codemirror_mode": {
    "name": "ipython",
    "version": 3
   },
   "file_extension": ".py",
   "mimetype": "text/x-python",
   "name": "python",
   "nbconvert_exporter": "python",
   "pygments_lexer": "ipython3",
   "version": "3.8.11"
  }
 },
 "nbformat": 4,
 "nbformat_minor": 5
}
